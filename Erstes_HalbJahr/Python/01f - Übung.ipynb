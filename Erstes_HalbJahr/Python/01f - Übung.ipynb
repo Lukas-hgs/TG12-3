{
 "cells": [
  {
   "cell_type": "markdown",
   "id": "ac6e04f0",
   "metadata": {},
   "source": [
    "# Übung\n",
    "\n",
    "Wir werden demnächst die Ballbewegungen während eines Fußballspiels simulieren. Dazu werden wir Spieler mit individuellen Eigenschaften beschreiben. Auf dessen Grundlage können Pässe, Torschüsse, Einwürfe, Abstösse simuliert werden. Wo ist der Ball nach einer Aktion: beim Gegner, beim Mitspieler, im Tor, im Aus...\n",
    "\n",
    "Für einen Spieler sollen die folgenden Angaben gespeichert werden:\n",
    "- name\n",
    "- jahrgang\n",
    "- staerke\n",
    "- torschuss\n",
    "- motivation\n",
    "\n",
    "Stärke, Torschuss und Motivation sollen einen Wert natürlichen Wert zwischen 1 (schlecht) und 10 (sehr gut) haben. Der Konstruktur bekommt zu allen Attributen einen Wert übergeben.\n",
    "\n",
    "## Aufgabe 1\n",
    "Erstellen Sie ein Klassendiagramm zur Klasse `Spieler`. Legen Sie Attributnamen, Datentypen, Sichtbarkeit und Zusicherungen fest. Nutzen Sie dazu die Erweiterung UMLet (siehe unten).\n",
    "\n",
    "## Aufgabe 2\n",
    "Erstellen Sie in python die Klasse `Spieler`.\n"
   ]
  },
  {
   "cell_type": "markdown",
   "id": "8bb3a30d",
   "metadata": {},
   "source": [
    "# Exkurs UMLet\n",
    "Die Erweiterung UMLet in Visual Studio Code dient dazu, UML-Diagramme (z. B. Klassendiagramme, Sequenzdiagramme, Zustandsdiagramme usw.) direkt in VS Code zu erstellen und zu bearbeiten.\n",
    "\n",
    "-\tUMLet – UML Tool for Fast UML Diagrams\n",
    "-\tUnterstützt UMLet .uxf-Dateien, die man auch in der Desktop-App UMLet öffnen kann.\n",
    "-\tDiagramme können als Bild (PNG, SVG, PDF) exportiert werden.\n",
    "\n",
    "## Verwendung in VS Code:\n",
    "1.\tErweiterung „UMLet“ installieren.\n",
    "2.\tEine Datei mit der Endung .uxf oder .uml öffnen oder neu erstellen.\n",
    "3.\tIm Textbereich das UMLet-Format eingeben (z. B. für eine Klasse).\n",
    "4.\tDas Diagramm wird automatisch in einer Vorschau angezeigt.\n"
   ]
  },
  {
   "cell_type": "code",
   "execution_count": 5,
   "id": "70ad0d25",
   "metadata": {},
   "outputs": [],
   "source": [
    "class Spieler:\n",
    "    def __init__(self, name: str, jahrgang: int, stärke: int, torschuss: int, motivation: int):\n",
    "        self.name: str = name\n",
    "        self.jahrgang: int = jahrgang\n",
    "        self.stärke: int = stärke\n",
    "        self.torschuss: int = torschuss\n",
    "        self.motivation: int = motivation"
   ]
  }
 ],
 "metadata": {
  "kernelspec": {
   "display_name": "Python 3",
   "language": "python",
   "name": "python3"
  },
  "language_info": {
   "codemirror_mode": {
    "name": "ipython",
    "version": 3
   },
   "file_extension": ".py",
   "mimetype": "text/x-python",
   "name": "python",
   "nbconvert_exporter": "python",
   "pygments_lexer": "ipython3",
   "version": "3.12.1"
  }
 },
 "nbformat": 4,
 "nbformat_minor": 5
}
